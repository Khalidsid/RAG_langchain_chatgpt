{
  "cells": [
    {
      "cell_type": "markdown",
      "metadata": {
        "id": "EcoEDCsJpBG6"
      },
      "source": [
        "This notebook makes a question answering chain with a specified website as a context data."
      ]
    },
    {
      "cell_type": "markdown",
      "metadata": {
        "id": "i3rmZlgg0RsI"
      },
      "source": [
        "# Setting up"
      ]
    },
    {
      "cell_type": "markdown",
      "metadata": {
        "id": "khCtKh6eDzh2"
      },
      "source": [
        "Install dependencies"
      ]
    },
    {
      "cell_type": "code",
      "execution_count": 1,
      "metadata": {
        "id": "mxFhFfKzRgpi"
      },
      "outputs": [],
      "source": [
        "!pip install langchain\n",
        "!pip install pinecone-client\n",
        "!pip install openai\n",
        "!pip install tiktoken\n",
        "!pip install nest_asyncio"
      ]
    },
    {
      "cell_type": "markdown",
      "metadata": {
        "id": "oU2eHKKCD4lq"
      },
      "source": [
        "Set up OpenAI API key"
      ]
    },
    {
      "cell_type": "code",
      "execution_count": 2,
      "metadata": {
        "id": "hOiNazy2SSPL"
      },
      "outputs": [],
      "source": [
        "import os\n",
        "os.environ[\"OPENAI_API_KEY\"] = \"sk-xxxxxxxxxxxxxxxxxxxxxxxxxxxxxxx\""
      ]
    },
    {
      "cell_type": "markdown",
      "metadata": {
        "id": "6xUZg07MMvoU"
      },
      "source": [
        "Set up Pinecone API keys"
      ]
    },
    {
      "cell_type": "code",
      "execution_count": null,
      "metadata": {
        "id": "7hai7fChMzw2"
      },
      "outputs": [],
      "source": [
        "import pinecone\n",
        "\n",
        "# initialize pinecone\n",
        "pinecone.init(\n",
        "    api_key=\"78f19263-d67b-40b1-984c-68f386b6d930\",  # find at app.pinecone.io\n",
        "    environment=\"asia-southeast1-gcp-free\"  # next to api key in console\n",
        ")"
      ]
    },
    {
      "cell_type": "markdown",
      "metadata": {
        "id": "vCnFhGb40ZxR"
      },
      "source": [
        "# Index"
      ]
    },
    {
      "cell_type": "markdown",
      "metadata": {
        "id": "kNrHppQSEQU2"
      },
      "source": [
        "**Load data from Web**\n",
        "\n",
        "Extends from the WebBaseLoader, this will load a sitemap from a given URL, and then scrape and load all the pages in the sitemap, returning each page as a document.\n",
        "\n",
        "The scraping is done concurrently, using WebBaseLoader. There are reasonable limits to concurrent requests, defaulting to 2 per second.\n",
        "\n",
        "Link to the [documentation](https://python.langchain.com/en/latest/modules/indexes/document_loaders/examples/sitemap.html)"
      ]
    },
    {
      "cell_type": "code",
      "execution_count": null,
      "metadata": {
        "id": "B1ntpQ-eLBo-"
      },
      "outputs": [],
      "source": [
        "!pip install unstructured"
      ]
    },
    {
      "cell_type": "code",
      "execution_count": 27,
      "metadata": {
        "id": "lFlUc5omJW-g"
      },
      "outputs": [],
      "source": [
        "from langchain.document_loaders import UnstructuredURLLoader"
      ]
    },
    {
      "cell_type": "code",
      "execution_count": 28,
      "metadata": {
        "id": "dGaxDvmTDFDX"
      },
      "outputs": [],
      "source": [
        "urls = [\n",
        "    \"https://www.naeco.blue/\"\n",
        "]"
      ]
    },
    {
      "cell_type": "code",
      "execution_count": 29,
      "metadata": {
        "id": "3NHp2q7oKaBO"
      },
      "outputs": [],
      "source": [
        "loader = UnstructuredURLLoader(urls=urls)"
      ]
    },
    {
      "cell_type": "code",
      "execution_count": 31,
      "metadata": {
        "id": "mVGnpqZyKcOv"
      },
      "outputs": [],
      "source": [
        "data = loader.load()"
      ]
    },
    {
      "cell_type": "markdown",
      "metadata": {
        "id": "N0Q03G2HG-6-"
      },
      "source": [
        "**Split the text from docs into smaller chunks**\n",
        "\n",
        "There are many ways to split the text. We are using the text splitter that is recommended for generic texts. For more ways to slit the text check the [documentation](https://python.langchain.com/en/latest/modules/indexes/text_splitters.html)"
      ]
    },
    {
      "cell_type": "code",
      "execution_count": 32,
      "metadata": {
        "colab": {
          "base_uri": "https://localhost:8080/"
        },
        "id": "I6bHuATL0g_-",
        "outputId": "7f3a128e-46eb-4f12-bab0-821e61353661"
      },
      "outputs": [
        {
          "data": {
            "text/plain": [
              "1"
            ]
          },
          "execution_count": 32,
          "metadata": {},
          "output_type": "execute_result"
        }
      ],
      "source": [
        "len(data)"
      ]
    },
    {
      "cell_type": "code",
      "execution_count": 33,
      "metadata": {
        "id": "DV9zorYiHAzz"
      },
      "outputs": [],
      "source": [
        "from langchain.text_splitter import RecursiveCharacterTextSplitter\n",
        "\n",
        "text_splitter = RecursiveCharacterTextSplitter(\n",
        "    chunk_size = 1000,\n",
        "    chunk_overlap  = 100,\n",
        "    length_function = len,\n",
        ")\n",
        "\n",
        "docs_chunks = text_splitter.split_documents(data)\n"
      ]
    },
    {
      "cell_type": "code",
      "execution_count": 34,
      "metadata": {
        "colab": {
          "base_uri": "https://localhost:8080/"
        },
        "id": "q71I8_PG5EkR",
        "outputId": "c128d1ac-d5f9-4406-f13f-c385d3958f78"
      },
      "outputs": [
        {
          "data": {
            "text/plain": [
              "2"
            ]
          },
          "execution_count": 34,
          "metadata": {},
          "output_type": "execute_result"
        }
      ],
      "source": [
        "len(docs_chunks)"
      ]
    },
    {
      "cell_type": "code",
      "execution_count": null,
      "metadata": {
        "id": "TqmSQqtX5H47"
      },
      "outputs": [],
      "source": [
        "docs_chunks[1]"
      ]
    },
    {
      "cell_type": "markdown",
      "metadata": {
        "id": "BtIKffZiFdpT"
      },
      "source": [
        "Create embeddings"
      ]
    },
    {
      "cell_type": "code",
      "execution_count": 36,
      "metadata": {
        "id": "KK-LlnZJFPMf"
      },
      "outputs": [],
      "source": [
        "from langchain.embeddings.openai import OpenAIEmbeddings\n",
        "\n",
        "embeddings = OpenAIEmbeddings()"
      ]
    },
    {
      "cell_type": "markdown",
      "metadata": {
        "id": "5sY05f0sFl_k"
      },
      "source": [
        "**Creating a vectorstore**\n",
        "\n",
        "A vectorstore stores Documents and associated embeddings, and provides fast ways to look up relevant Documents by embeddings.\n",
        "\n",
        "There are many ways to create a vectorstore. We are going to use Pinecone. For other types of vectorstores visit the [documentation](https://python.langchain.com/en/latest/modules/indexes/vectorstores.html)\n",
        "\n",
        "First you need to go to [Pinecone](https://www.pinecone.io/) and create an index there. Then type the index name in \"index_name\""
      ]
    },
    {
      "cell_type": "code",
      "execution_count": 37,
      "metadata": {
        "id": "cng7EmkbLyBb"
      },
      "outputs": [],
      "source": [
        "from langchain.vectorstores import Pinecone\n",
        "\n",
        "index_name = \"hsharzirina\"\n",
        "\n",
        "# #create a new index\n",
        "docsearch = Pinecone.from_documents(docs_chunks, embeddings, index_name=index_name)\n",
        "\n",
        "# if you already have an index, you can load it like this\n",
        "#docsearch = Pinecone.from_existing_index(index_name, embeddings)\n"
      ]
    },
    {
      "cell_type": "markdown",
      "metadata": {
        "id": "EgbWXad7-dke"
      },
      "source": [
        "If you cannot create a Pinecone account, try to use CromaDB. The following code creates a transient in-memory vectorstore. For further information check the [documentation](https://python.langchain.com/en/latest/modules/indexes/vectorstores/examples/chroma.html).\n",
        "\n",
        "The following code block uses Croma for creating a vectorstore. Uncomment it if you don't have access to pinecone and use it instead."
      ]
    },
    {
      "cell_type": "code",
      "execution_count": null,
      "metadata": {
        "id": "P2_WRTDJ-dAx"
      },
      "outputs": [],
      "source": [
        "# from langchain.vectorstores import Chroma\n",
        "# docsearch = Chroma.from_documents(docs, embeddings)"
      ]
    },
    {
      "cell_type": "markdown",
      "metadata": {
        "id": "DKpbxw5JRe2e"
      },
      "source": [
        "Vectorstore is ready. Let's try to query our docsearch with similarity search"
      ]
    },
    {
      "cell_type": "code",
      "execution_count": 39,
      "metadata": {
        "colab": {
          "base_uri": "https://localhost:8080/"
        },
        "id": "xqqD72sGRbBA",
        "outputId": "8b3e52bf-a94f-4729-bf6e-abd5f29106b4"
      },
      "outputs": [
        {
          "name": "stdout",
          "output_type": "stream",
          "text": [
            "[Document(page_content='Business Case\\n\\nProblem\\n\\nVolatilität der erneuerbaren Energien\\n\\nErfahre mehr\\n\\nLösung\\n\\nEinspeiseprognose mit Hilfe eines intelligenten Algorithmus\\n\\nErfahre mehr\\n\\nAnwendungsbereiche\\n\\nDirektvermarktung\\nPortfoliooptimierung\\nAnlagenplanung\\nNetzplanung\\nEnergieautarke Firmen\\nEnergiespeicher\\nEnergiewandlung\\nIntelligente Stromnetze\\nWartungsplanungElektromobilität\\nEigenverbrauch\\nAutarke Energieversorgung\\n\\nErfahre mehr\\n\\nNAECO Blue Management\\n\\nFelix Mertens\\n\\nGründer und Geschäftsführer\\n\\nM.Sc. Wirtschaftsingenieur Energiemanagement\\n\\n1000\\n\\nMio. Datenpunkte\\n\\n10\\n\\nPartner\\n\\n110\\n\\nAnlagen im Portfolio\\n\\n8000\\n\\nErstellte Prognosen\\n\\nUnsere Partner und Unterstützer\\n\\nDancing Man GmbH\\n\\nGWGL Hamburg\\n\\nGateway49 Accelerator\\n\\nAmazon Web Services\\n\\nStadtwerke Lübeck GmbH\\n\\nCapCerta GmbH & Co. KG\\n\\nEnergiecluster Digitales Lübeck\\n\\nFunding from the European Regional Development Fund (ERDF)\\n\\nAddress\\n\\nNAECO Blue GmbHAmselweg 523611 Bad SchwartauGemany\\n\\ninfo@naeco.blue\\n\\n© Copyright 2023 NAECO Blue GmbH - All Rights Reserved', metadata={'source': 'https://www.naeco.blue/'}), Document(page_content='English\\n\\nDeutsch\\n\\nNEWSNEWSCareer\\n\\nLegalLegalPrivacy Policy\\n\\nDEMO\\n\\nNAECO Blue GmbH\\n\\nUnser Start-Up erstellt standortgenaue Einspeiseprognosen für Energie aus Wind und Solar, um die Volatilität dieser Energiequellen planbar und effizienter nutzbar zu gestalten.\\n\\nErfahre mehr\\n\\nWillkommen bei\\xa0NAECO Blue\\n\\nErneuerbare Energien\\n\\nHandeln - Nutzen - Speichern\\n\\nNaeco Blue entwickelt digitale Lösungen, welche die Minimierung der Kosten durch Prognoseabweichungen und Fehlprognosen der Energieerzeugung durch erneuerbare Energien anstrebt und den Kunden eine Ersparnis und zusätzlichen Profit einbringt.\\n\\nErzeugung\\n\\nGenaue EinspeiseprognosePortfoliooptimierungMinimierung der Effekte durch volatile EinspeisungIntelligenter Algorithmus\\n\\nNutzung und Handel\\n\\nMarktentwicklung voraussehenEigenverbrauch statt EinspeisungWettbewerbsvorsprung\\n\\nPlanung\\n\\nWartungsplanungEnergiebeschaffung zum richtigen ZeitpunktLastenmanagement\\n\\nBusiness Case\\n\\nProblem\\n\\nVolatilität der erneuerbaren Energien\\n\\nErfahre mehr\\n\\nLösung', metadata={'source': 'https://www.naeco.blue/'})]\n"
          ]
        }
      ],
      "source": [
        "query = \" Who is Felix Mertens?\"\n",
        "data = docsearch.similarity_search(query)\n",
        "print(data)"
      ]
    },
    {
      "cell_type": "markdown",
      "metadata": {
        "id": "Q_4iKKJ16RCr"
      },
      "source": [
        "# Making a question answering chain\n",
        "The question answering chain will enable us to generate the answer based on the relevant context chunks. See the [documentation](https://python.langchain.com/en/latest/modules/chains/index_examples/qa_with_sources.html) for more explanation.\n",
        "\n",
        "Additionally, we can return the source documents used to answer the question by specifying an optional parameter when constructing the chain. For more information visit the [documentation](https://python.langchain.com/en/latest/modules/chains/index_examples/vector_db_qa.html#return-source-documents)"
      ]
    },
    {
      "cell_type": "code",
      "execution_count": 40,
      "metadata": {
        "colab": {
          "base_uri": "https://localhost:8080/",
          "height": 36
        },
        "id": "9FcufORSOtJz",
        "outputId": "bbf2824b-ba06-4270-b680-5eb8747955dd"
      },
      "outputs": [
        {
          "data": {
            "application/vnd.google.colaboratory.intrinsic+json": {
              "type": "string"
            },
            "text/plain": [
              "' Felix Mertens is the founder and CEO of NAECO Blue Management.'"
            ]
          },
          "execution_count": 40,
          "metadata": {},
          "output_type": "execute_result"
        }
      ],
      "source": [
        "from langchain.chains import RetrievalQA\n",
        "from langchain.llms import OpenAI\n",
        "llm=OpenAI()\n",
        "\n",
        "qa_with_sources = RetrievalQA.from_chain_type(llm=llm, chain_type=\"stuff\", retriever=docsearch.as_retriever(), return_source_documents=True)\n",
        "\n",
        "query = \"Who is Felix Mertens?\"\n",
        "result = qa_with_sources({\"query\": query})\n",
        "result[\"result\"]"
      ]
    },
    {
      "cell_type": "markdown",
      "metadata": {
        "id": "VjOzlTef8e1U"
      },
      "source": [
        "Output source documents that were found for the query"
      ]
    },
    {
      "cell_type": "code",
      "execution_count": 41,
      "metadata": {
        "colab": {
          "base_uri": "https://localhost:8080/"
        },
        "id": "maOKWZ7B8TPQ",
        "outputId": "281ae2a7-8f1f-4330-96a0-33467f03ca1f"
      },
      "outputs": [
        {
          "data": {
            "text/plain": [
              "[Document(page_content='Business Case\\n\\nProblem\\n\\nVolatilität der erneuerbaren Energien\\n\\nErfahre mehr\\n\\nLösung\\n\\nEinspeiseprognose mit Hilfe eines intelligenten Algorithmus\\n\\nErfahre mehr\\n\\nAnwendungsbereiche\\n\\nDirektvermarktung\\nPortfoliooptimierung\\nAnlagenplanung\\nNetzplanung\\nEnergieautarke Firmen\\nEnergiespeicher\\nEnergiewandlung\\nIntelligente Stromnetze\\nWartungsplanungElektromobilität\\nEigenverbrauch\\nAutarke Energieversorgung\\n\\nErfahre mehr\\n\\nNAECO Blue Management\\n\\nFelix Mertens\\n\\nGründer und Geschäftsführer\\n\\nM.Sc. Wirtschaftsingenieur Energiemanagement\\n\\n1000\\n\\nMio. Datenpunkte\\n\\n10\\n\\nPartner\\n\\n110\\n\\nAnlagen im Portfolio\\n\\n8000\\n\\nErstellte Prognosen\\n\\nUnsere Partner und Unterstützer\\n\\nDancing Man GmbH\\n\\nGWGL Hamburg\\n\\nGateway49 Accelerator\\n\\nAmazon Web Services\\n\\nStadtwerke Lübeck GmbH\\n\\nCapCerta GmbH & Co. KG\\n\\nEnergiecluster Digitales Lübeck\\n\\nFunding from the European Regional Development Fund (ERDF)\\n\\nAddress\\n\\nNAECO Blue GmbHAmselweg 523611 Bad SchwartauGemany\\n\\ninfo@naeco.blue\\n\\n© Copyright 2023 NAECO Blue GmbH - All Rights Reserved', metadata={'source': 'https://www.naeco.blue/'}),\n",
              " Document(page_content='English\\n\\nDeutsch\\n\\nNEWSNEWSCareer\\n\\nLegalLegalPrivacy Policy\\n\\nDEMO\\n\\nNAECO Blue GmbH\\n\\nUnser Start-Up erstellt standortgenaue Einspeiseprognosen für Energie aus Wind und Solar, um die Volatilität dieser Energiequellen planbar und effizienter nutzbar zu gestalten.\\n\\nErfahre mehr\\n\\nWillkommen bei\\xa0NAECO Blue\\n\\nErneuerbare Energien\\n\\nHandeln - Nutzen - Speichern\\n\\nNaeco Blue entwickelt digitale Lösungen, welche die Minimierung der Kosten durch Prognoseabweichungen und Fehlprognosen der Energieerzeugung durch erneuerbare Energien anstrebt und den Kunden eine Ersparnis und zusätzlichen Profit einbringt.\\n\\nErzeugung\\n\\nGenaue EinspeiseprognosePortfoliooptimierungMinimierung der Effekte durch volatile EinspeisungIntelligenter Algorithmus\\n\\nNutzung und Handel\\n\\nMarktentwicklung voraussehenEigenverbrauch statt EinspeisungWettbewerbsvorsprung\\n\\nPlanung\\n\\nWartungsplanungEnergiebeschaffung zum richtigen ZeitpunktLastenmanagement\\n\\nBusiness Case\\n\\nProblem\\n\\nVolatilität der erneuerbaren Energien\\n\\nErfahre mehr\\n\\nLösung', metadata={'source': 'https://www.naeco.blue/'})]"
            ]
          },
          "execution_count": 41,
          "metadata": {},
          "output_type": "execute_result"
        }
      ],
      "source": [
        "result[\"source_documents\"]"
      ]
    },
    {
      "cell_type": "code",
      "execution_count": 42,
      "metadata": {
        "colab": {
          "base_uri": "https://localhost:8080/",
          "height": 54
        },
        "id": "hDStJ3PhPiea",
        "outputId": "eaaf4fcc-6103-4987-87dd-eb6e236fed90"
      },
      "outputs": [
        {
          "data": {
            "application/vnd.google.colaboratory.intrinsic+json": {
              "type": "string"
            },
            "text/plain": [
              "' Naeco Blue develops digital solutions that aim to minimize costs through forecast deviations and incorrect forecasts of energy generated by renewable energies, bringing customers savings and additional profit.'"
            ]
          },
          "execution_count": 42,
          "metadata": {},
          "output_type": "execute_result"
        }
      ],
      "source": [
        "query = \"What does Naeco Blue do?\"\n",
        "result = qa_with_sources({\"query\": query})\n",
        "result[\"result\"]"
      ]
    }
  ],
  "metadata": {
    "colab": {
      "provenance": []
    },
    "kernelspec": {
      "display_name": "Python 3",
      "name": "python3"
    },
    "language_info": {
      "name": "python"
    }
  },
  "nbformat": 4,
  "nbformat_minor": 0
}
